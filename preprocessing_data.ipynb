{
 "cells": [
  {
   "cell_type": "code",
   "execution_count": null,
   "id": "9dcb5adc-74c9-4c60-978d-b55259676f61",
   "metadata": {},
   "outputs": [],
   "source": [
    "#Notebook to preprocess raw RNA counts by normalizing them and converting them to numpy arrays"
   ]
  },
  {
   "cell_type": "code",
   "execution_count": null,
   "id": "bb1d5e58-eddb-48a8-8b9d-5c5d61c7a3b4",
   "metadata": {},
   "outputs": [],
   "source": [
    "import csv\n",
    "import random\n",
    "import numpy as np"
   ]
  },
  {
   "cell_type": "code",
   "execution_count": null,
   "id": "90667f63-0190-417d-8df4-a18bb378ffc4",
   "metadata": {},
   "outputs": [],
   "source": [
    "filename = 'data/Filtered_68K_PBMC_data.csv'\n",
    "pbmc = []\n",
    "\n",
    "with open(filename) as f:\n",
    "    reader = csv.reader(f)\n",
    "    for index, row in enumerate(reader):\n",
    "        if index == 0:\n",
    "            chosen_row = row\n",
    "        else:\n",
    "            r = random.randint(0, index)\n",
    "            if r == 0:\n",
    "                chosen_row = row\n",
    "        pbmc.append(chosen_row)\n"
   ]
  },
  {
   "cell_type": "code",
   "execution_count": null,
   "id": "18667fca-faa8-479f-b510-066d300bb095",
   "metadata": {},
   "outputs": [],
   "source": [
    "gene_lst = pbmc[0][1:]"
   ]
  },
  {
   "cell_type": "code",
   "execution_count": null,
   "id": "2b69e406-b641-40ca-8432-ebac4f9880c8",
   "metadata": {},
   "outputs": [],
   "source": [
    "#saving gene_lst\n",
    "\n",
    "import pickle\n",
    "\n",
    "with open('gene_lst', 'wb')as gene_lst_file:\n",
    "    pickle.dump(gene_lst, gene_lst_file)"
   ]
  },
  {
   "cell_type": "code",
   "execution_count": null,
   "id": "9be60197-3205-4230-9fdb-5e59a1b1f938",
   "metadata": {},
   "outputs": [],
   "source": [
    "#loading gene_lst\n",
    "\n",
    "with open('gene_lst', 'rb')as gene_lst_file:\n",
    "    gene_lst = pickle.load(gene_lst_file)"
   ]
  },
  {
   "cell_type": "code",
   "execution_count": null,
   "id": "f6a03c2e-c488-42d0-9ebf-66415f0826ed",
   "metadata": {},
   "outputs": [],
   "source": [
    "#clears the label row\n",
    "pbmc = pbmc[1:]"
   ]
  },
  {
   "cell_type": "code",
   "execution_count": null,
   "id": "27e2725c-290b-4a2e-b70b-1ad05d8086ea",
   "metadata": {},
   "outputs": [],
   "source": [
    "#normalizing\n",
    "\n",
    "for l in range(0, len(pbmc)):\n",
    "    for c in range(1, len(pbmc[l])):\n",
    "        pbmc[l][c] = float(pbmc[l][c])\n",
    "    total = sum(pbmc[l][1:len(pbmc[l])-1])\n",
    "    for c in range(1, len(pbmc[l])):\n",
    "        pbmc[l][c] = (pbmc[l][c]/total)*1e4"
   ]
  },
  {
   "cell_type": "code",
   "execution_count": null,
   "id": "29d0b6af-ea7e-48eb-b4ae-566cdeec00b2",
   "metadata": {},
   "outputs": [],
   "source": [
    "#clears the cell tag in every row\n",
    "\n",
    "for l in range(0, len(pbmc)):\n",
    "    pbmc[l] = pbmc[l][1:]"
   ]
  },
  {
   "cell_type": "code",
   "execution_count": null,
   "id": "5595c81e-dc4c-4eae-9284-f9af233271c2",
   "metadata": {},
   "outputs": [],
   "source": [
    "pbmc = np.asarray(pbmc, dtype='float64')"
   ]
  },
  {
   "cell_type": "code",
   "execution_count": null,
   "id": "459f6240-1821-486c-9c1e-98b9f19b7c49",
   "metadata": {},
   "outputs": [],
   "source": [
    "pbmc.shape"
   ]
  },
  {
   "cell_type": "code",
   "execution_count": null,
   "id": "992fd6bd-55cd-4bee-9ef5-2cdebeaa8f69",
   "metadata": {},
   "outputs": [],
   "source": [
    "var_dict = {}\n",
    "\n",
    "for i in range(1, len(pbmc[0])):\n",
    "    var_dict[i] = np.var(pbmc[:, i])"
   ]
  },
  {
   "cell_type": "code",
   "execution_count": null,
   "id": "c6b91483-5206-4a8b-a80a-d4684b2dee75",
   "metadata": {},
   "outputs": [],
   "source": [
    "var_dict = {k: v for k, v in sorted(var_dict.items(), key=lambda item: item[1], reverse = True)}"
   ]
  },
  {
   "cell_type": "code",
   "execution_count": null,
   "id": "61ed225b-57ae-4882-941e-322ef31de09e",
   "metadata": {},
   "outputs": [],
   "source": [
    "#recording the indexes of genes with the highest variability\n",
    "\n",
    "high_idx = []\n",
    "num = 1000\n",
    "i = 0\n",
    "\n",
    "for idx, var in var_dict.items():\n",
    "    if i != num:\n",
    "        high_idx.append(idx)\n",
    "    else:\n",
    "        break\n",
    "    i += 1"
   ]
  },
  {
   "cell_type": "code",
   "execution_count": null,
   "id": "466fa0bc-47a9-4e50-bd8d-1eb50de5c21e",
   "metadata": {},
   "outputs": [],
   "source": [
    "len(high_idx)"
   ]
  },
  {
   "cell_type": "code",
   "execution_count": null,
   "id": "b5fe907a-517e-4160-9593-5beb2a1ce859",
   "metadata": {},
   "outputs": [],
   "source": [
    "high_var_genes = []\n",
    "\n",
    "for idx in high_idx:\n",
    "    high_var_genes.append(gene_lst[idx])"
   ]
  },
  {
   "cell_type": "code",
   "execution_count": null,
   "id": "d74b01fd-6b10-41fa-bad9-b5d075b202fa",
   "metadata": {},
   "outputs": [],
   "source": [
    "#saving high_var_genes to be used in build_adjacency\n",
    "\n",
    "import pickle\n",
    "\n",
    "with open('high_var_genes', 'wb')as high_var_genes_file:\n",
    "    pickle.dump(high_var_genes, high_var_genes_file)"
   ]
  },
  {
   "cell_type": "code",
   "execution_count": null,
   "id": "48150997-6840-4479-949f-7e7f5ae33b29",
   "metadata": {},
   "outputs": [],
   "source": [
    "pbmc = pbmc[:, high_idx]"
   ]
  },
  {
   "cell_type": "code",
   "execution_count": null,
   "id": "643a4b0b-aba8-4503-b147-0e6c1b0bf572",
   "metadata": {},
   "outputs": [],
   "source": [
    "np.save('data/pbmc_normalized.npy', pbmc)"
   ]
  }
 ],
 "metadata": {
  "kernelspec": {
   "display_name": "Python 3 (ipykernel)",
   "language": "python",
   "name": "python3"
  },
  "language_info": {
   "codemirror_mode": {
    "name": "ipython",
    "version": 3
   },
   "file_extension": ".py",
   "mimetype": "text/x-python",
   "name": "python",
   "nbconvert_exporter": "python",
   "pygments_lexer": "ipython3",
   "version": "3.8.5"
  }
 },
 "nbformat": 4,
 "nbformat_minor": 5
}
